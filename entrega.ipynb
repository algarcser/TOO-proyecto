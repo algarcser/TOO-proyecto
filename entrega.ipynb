{
  "nbformat": 4,
  "nbformat_minor": 0,
  "metadata": {
    "colab": {
      "provenance": [],
      "authorship_tag": "ABX9TyNsOdbOJzIbl/5stg7JE3Z8",
      "include_colab_link": true
    },
    "kernelspec": {
      "name": "python3",
      "display_name": "Python 3"
    },
    "language_info": {
      "name": "python"
    }
  },
  "cells": [
    {
      "cell_type": "markdown",
      "metadata": {
        "id": "view-in-github",
        "colab_type": "text"
      },
      "source": [
        "<a href=\"https://colab.research.google.com/github/algarcser/TOO-proyecto/blob/main/entrega.ipynb\" target=\"_parent\"><img src=\"https://colab.research.google.com/assets/colab-badge.svg\" alt=\"Open In Colab\"/></a>"
      ]
    },
    {
      "cell_type": "markdown",
      "source": [
        "Este cuaderno contrendrá el projecto final de AAII20223 realizar por Alejandro Guarnizo de la Torre y Álvaro Gómez Troitño. "
      ],
      "metadata": {
        "id": "okPkHww3F7uc"
      }
    },
    {
      "cell_type": "markdown",
      "source": [
        "# Criterios este trabajo\n",
        "Requisitos generales:\n",
        "  Grupos de 1 a 3 personas (ideal 3).\n",
        "  Probar con al menos 3 modelos distintos (si el grupo es de 2 personas el requisito es de 2 modelos).\n",
        "  Cada una de las partes ha de estar bien documentada y descrita.\n",
        "  Requisitos mínimos del trabajo (para aprobar el trabajo final):\n",
        "  Selección de un dataset (ver sugerencias a continuación)\n",
        "\n",
        "Breve preprocesamiento de datos: no es el objetivo de esta asignatura pero sí que es necesario realizar un breve estudio de conocer cómo son los datos (como los vistos en las prácticas). En caso de columnas incompletas, con valores nulos, o datos con dimensión muy alta, se permite eliminar estas columnas y no tener en cuenta algunas de las características.\n",
        "Para cada modelo:\n",
        "  - Datos entrada: estudio del balanceo de los datos y aplicar si es el caso una técnica de balanceo. (Si los datos están balanceados, reducir de forma artificial una de las clases y aplicar una técnica para balancear. En este caso, continuar con el conjunto original el resto de ejercicios, es decir con el conjunto balanceado inicial.)\n",
        "  - Incluir técnicas de validación (aplicar al menos 1 técnica).\n",
        "  - Estudio de hiperparámetros (aplicar al menos 1 técnica) y creación del modelo\n",
        "  - Evaluación del modelo con más de una métrica de las vistas en clase\n",
        "  - Comparación de modelos\n",
        "  - Hacer un ensemble con los modelos elegidos. Comparar los resultados con hacerlos de manera independiente.\n",
        "  \n",
        "**Ejercicios para alcanzar mayor nota**:\n",
        "  \n",
        "  - Utilizar más de una técnica de balanceo\n",
        "  - Ampliar las técnicas del estudio de hiperparámetros\n",
        "  - Ampliar el número de modelos\n",
        "  - Utilizar varios métodos de ensemble\n",
        "  - Aplicar más de una técnica de interpretabilidad."
      ],
      "metadata": {
        "id": "HMrerGIfHIzM"
      }
    },
    {
      "cell_type": "markdown",
      "source": [
        "# Carga de datos\n",
        "\n",
        "A continuación vamos a cargar el dataset con el cual vamos a realizar este trabajo. \n",
        "En este trabajo se ha escogido el dataset proporcionado por Kaggle en el siguiente enlace: https://www.kaggle.com/denisadutca/customer-behaviour\n",
        "\n",
        "Este dataset tiene como principal objetivo el establecer si un posible comprador realizará una compra en función de una seria de características que conocemos de la persona. \n",
        "\n",
        "Conocemos los siguientes campos de una persona: \n",
        "- Id\n",
        "- Género\n",
        "- Edad\n",
        "- Salario estimado\n",
        "- Comprado? (está será nuestra variable objetivo)\n",
        "\n",
        "Con esta información tenemos que intertan predecir sin un cliente comprará o no en la tienda. \n",
        "\n",
        "Vamos a cargar los datos y hacer una previsualización de los datos"
      ],
      "metadata": {
        "id": "KVygnH_pGFcN"
      }
    },
    {
      "cell_type": "markdown",
      "source": [
        "Cargamos algunas librerías que vamos a usar"
      ],
      "metadata": {
        "id": "ztV33wsBJdSY"
      }
    },
    {
      "cell_type": "code",
      "execution_count": 10,
      "metadata": {
        "id": "UXRFJUPEF6E3"
      },
      "outputs": [],
      "source": [
        "import pandas as pd\n",
        "import numpy as np\n",
        "import matplotlib.pyplot as plt"
      ]
    },
    {
      "cell_type": "code",
      "source": [
        "# Leer dataset\n",
        "url = \"/content/Customer_Behaviour.csv\"\n",
        "df = pd.read_csv(url, sep=\",\")\n",
        " \n",
        "# Mostrar las n primeras filas del dataset\n",
        "df.head(5)"
      ],
      "metadata": {
        "colab": {
          "base_uri": "https://localhost:8080/",
          "height": 206
        },
        "id": "mve3b4VGJv6B",
        "outputId": "e86b4c4f-e53b-4315-87c1-cf76af9c0b6a"
      },
      "execution_count": 4,
      "outputs": [
        {
          "output_type": "execute_result",
          "data": {
            "text/plain": [
              "    User ID  Gender  Age  EstimatedSalary  Purchased\n",
              "0  15624510    Male   19            19000          0\n",
              "1  15810944    Male   35            20000          0\n",
              "2  15668575  Female   26            43000          0\n",
              "3  15603246  Female   27            57000          0\n",
              "4  15804002    Male   19            76000          0"
            ],
            "text/html": [
              "\n",
              "  <div id=\"df-646a0479-51af-49b3-bbc1-8383b8bd7ecb\">\n",
              "    <div class=\"colab-df-container\">\n",
              "      <div>\n",
              "<style scoped>\n",
              "    .dataframe tbody tr th:only-of-type {\n",
              "        vertical-align: middle;\n",
              "    }\n",
              "\n",
              "    .dataframe tbody tr th {\n",
              "        vertical-align: top;\n",
              "    }\n",
              "\n",
              "    .dataframe thead th {\n",
              "        text-align: right;\n",
              "    }\n",
              "</style>\n",
              "<table border=\"1\" class=\"dataframe\">\n",
              "  <thead>\n",
              "    <tr style=\"text-align: right;\">\n",
              "      <th></th>\n",
              "      <th>User ID</th>\n",
              "      <th>Gender</th>\n",
              "      <th>Age</th>\n",
              "      <th>EstimatedSalary</th>\n",
              "      <th>Purchased</th>\n",
              "    </tr>\n",
              "  </thead>\n",
              "  <tbody>\n",
              "    <tr>\n",
              "      <th>0</th>\n",
              "      <td>15624510</td>\n",
              "      <td>Male</td>\n",
              "      <td>19</td>\n",
              "      <td>19000</td>\n",
              "      <td>0</td>\n",
              "    </tr>\n",
              "    <tr>\n",
              "      <th>1</th>\n",
              "      <td>15810944</td>\n",
              "      <td>Male</td>\n",
              "      <td>35</td>\n",
              "      <td>20000</td>\n",
              "      <td>0</td>\n",
              "    </tr>\n",
              "    <tr>\n",
              "      <th>2</th>\n",
              "      <td>15668575</td>\n",
              "      <td>Female</td>\n",
              "      <td>26</td>\n",
              "      <td>43000</td>\n",
              "      <td>0</td>\n",
              "    </tr>\n",
              "    <tr>\n",
              "      <th>3</th>\n",
              "      <td>15603246</td>\n",
              "      <td>Female</td>\n",
              "      <td>27</td>\n",
              "      <td>57000</td>\n",
              "      <td>0</td>\n",
              "    </tr>\n",
              "    <tr>\n",
              "      <th>4</th>\n",
              "      <td>15804002</td>\n",
              "      <td>Male</td>\n",
              "      <td>19</td>\n",
              "      <td>76000</td>\n",
              "      <td>0</td>\n",
              "    </tr>\n",
              "  </tbody>\n",
              "</table>\n",
              "</div>\n",
              "      <button class=\"colab-df-convert\" onclick=\"convertToInteractive('df-646a0479-51af-49b3-bbc1-8383b8bd7ecb')\"\n",
              "              title=\"Convert this dataframe to an interactive table.\"\n",
              "              style=\"display:none;\">\n",
              "        \n",
              "  <svg xmlns=\"http://www.w3.org/2000/svg\" height=\"24px\"viewBox=\"0 0 24 24\"\n",
              "       width=\"24px\">\n",
              "    <path d=\"M0 0h24v24H0V0z\" fill=\"none\"/>\n",
              "    <path d=\"M18.56 5.44l.94 2.06.94-2.06 2.06-.94-2.06-.94-.94-2.06-.94 2.06-2.06.94zm-11 1L8.5 8.5l.94-2.06 2.06-.94-2.06-.94L8.5 2.5l-.94 2.06-2.06.94zm10 10l.94 2.06.94-2.06 2.06-.94-2.06-.94-.94-2.06-.94 2.06-2.06.94z\"/><path d=\"M17.41 7.96l-1.37-1.37c-.4-.4-.92-.59-1.43-.59-.52 0-1.04.2-1.43.59L10.3 9.45l-7.72 7.72c-.78.78-.78 2.05 0 2.83L4 21.41c.39.39.9.59 1.41.59.51 0 1.02-.2 1.41-.59l7.78-7.78 2.81-2.81c.8-.78.8-2.07 0-2.86zM5.41 20L4 18.59l7.72-7.72 1.47 1.35L5.41 20z\"/>\n",
              "  </svg>\n",
              "      </button>\n",
              "      \n",
              "  <style>\n",
              "    .colab-df-container {\n",
              "      display:flex;\n",
              "      flex-wrap:wrap;\n",
              "      gap: 12px;\n",
              "    }\n",
              "\n",
              "    .colab-df-convert {\n",
              "      background-color: #E8F0FE;\n",
              "      border: none;\n",
              "      border-radius: 50%;\n",
              "      cursor: pointer;\n",
              "      display: none;\n",
              "      fill: #1967D2;\n",
              "      height: 32px;\n",
              "      padding: 0 0 0 0;\n",
              "      width: 32px;\n",
              "    }\n",
              "\n",
              "    .colab-df-convert:hover {\n",
              "      background-color: #E2EBFA;\n",
              "      box-shadow: 0px 1px 2px rgba(60, 64, 67, 0.3), 0px 1px 3px 1px rgba(60, 64, 67, 0.15);\n",
              "      fill: #174EA6;\n",
              "    }\n",
              "\n",
              "    [theme=dark] .colab-df-convert {\n",
              "      background-color: #3B4455;\n",
              "      fill: #D2E3FC;\n",
              "    }\n",
              "\n",
              "    [theme=dark] .colab-df-convert:hover {\n",
              "      background-color: #434B5C;\n",
              "      box-shadow: 0px 1px 3px 1px rgba(0, 0, 0, 0.15);\n",
              "      filter: drop-shadow(0px 1px 2px rgba(0, 0, 0, 0.3));\n",
              "      fill: #FFFFFF;\n",
              "    }\n",
              "  </style>\n",
              "\n",
              "      <script>\n",
              "        const buttonEl =\n",
              "          document.querySelector('#df-646a0479-51af-49b3-bbc1-8383b8bd7ecb button.colab-df-convert');\n",
              "        buttonEl.style.display =\n",
              "          google.colab.kernel.accessAllowed ? 'block' : 'none';\n",
              "\n",
              "        async function convertToInteractive(key) {\n",
              "          const element = document.querySelector('#df-646a0479-51af-49b3-bbc1-8383b8bd7ecb');\n",
              "          const dataTable =\n",
              "            await google.colab.kernel.invokeFunction('convertToInteractive',\n",
              "                                                     [key], {});\n",
              "          if (!dataTable) return;\n",
              "\n",
              "          const docLinkHtml = 'Like what you see? Visit the ' +\n",
              "            '<a target=\"_blank\" href=https://colab.research.google.com/notebooks/data_table.ipynb>data table notebook</a>'\n",
              "            + ' to learn more about interactive tables.';\n",
              "          element.innerHTML = '';\n",
              "          dataTable['output_type'] = 'display_data';\n",
              "          await google.colab.output.renderOutput(dataTable, element);\n",
              "          const docLink = document.createElement('div');\n",
              "          docLink.innerHTML = docLinkHtml;\n",
              "          element.appendChild(docLink);\n",
              "        }\n",
              "      </script>\n",
              "    </div>\n",
              "  </div>\n",
              "  "
            ]
          },
          "metadata": {},
          "execution_count": 4
        }
      ]
    },
    {
      "cell_type": "markdown",
      "source": [
        "Según la información proporcionada por Kaggle, este dataset no contiene ninguna fila con datos vacios y tampoco tienen filas repetidas o no validas, por lo tanto no vamos a preocuparnos con estos aspectos en este trabajo y que que no hace falta"
      ],
      "metadata": {
        "id": "aVMW3ETuM4MQ"
      }
    },
    {
      "cell_type": "markdown",
      "source": [
        "Hemos cargado correctamente el dataset\n",
        "Vamos a realizar una pequeña labor de preprocesamiento.\n",
        "\n",
        "Como hemos comentado nuestra variable objetivo será la columnas Purchased, que indica que si un cliente o no, realizó una compra.\n",
        "\n",
        "Vamos a ver la distribución de nuestro dataset y si está balanceado o no"
      ],
      "metadata": {
        "id": "fHjc21MyKl6W"
      }
    },
    {
      "cell_type": "code",
      "source": [
        "df['Purchased'].value_counts()"
      ],
      "metadata": {
        "colab": {
          "base_uri": "https://localhost:8080/"
        },
        "id": "3qgfwGJOLW6y",
        "outputId": "64611a71-c13c-472a-e998-f6108aec5f80"
      },
      "execution_count": 5,
      "outputs": [
        {
          "output_type": "execute_result",
          "data": {
            "text/plain": [
              "0    257\n",
              "1    143\n",
              "Name: Purchased, dtype: int64"
            ]
          },
          "metadata": {},
          "execution_count": 5
        }
      ]
    },
    {
      "cell_type": "markdown",
      "source": [
        "Como podemos ver, no está totalmente balanceado nuestro dataset, es decir que deberemos de aplicar algunas técnicas de balanceo para ver si podemos mejorar la eficiencia de nuestros algoritmos\n",
        "\n",
        "si vemos cuantos que porcentaje de datos corresponde a cada clase"
      ],
      "metadata": {
        "id": "WbVo-VwvLbAQ"
      }
    },
    {
      "cell_type": "code",
      "source": [
        "df['Purchased'].value_counts() / len(df) * 100"
      ],
      "metadata": {
        "colab": {
          "base_uri": "https://localhost:8080/"
        },
        "id": "-uT4FKZsLaaY",
        "outputId": "1cbf5e71-9a96-4539-eb38-5937d625abf0"
      },
      "execution_count": 6,
      "outputs": [
        {
          "output_type": "execute_result",
          "data": {
            "text/plain": [
              "0    64.25\n",
              "1    35.75\n",
              "Name: Purchased, dtype: float64"
            ]
          },
          "metadata": {},
          "execution_count": 6
        }
      ]
    },
    {
      "cell_type": "markdown",
      "source": [
        "Observamos que tenemos aproximadamente 1/3 de nuestros datos corresponden a compras realizadas, y 2 / de nuestros datos corresponden a clientes que no han comprado nada. "
      ],
      "metadata": {
        "id": "4t-eQYz9MGoI"
      }
    },
    {
      "cell_type": "markdown",
      "source": [
        "Antes de continuar vamos a conventir una de nuestras variables, el género de variable categórica, a variable numérica, para poder trabajar más facilmente con el dataset"
      ],
      "metadata": {
        "id": "dm_8XNqLMenE"
      }
    },
    {
      "cell_type": "code",
      "source": [
        "from sklearn import preprocessing\n",
        "\n",
        "le = preprocessing.LabelEncoder()\n",
        "\n",
        "df['Gender'] = le.fit_transform(df['Gender'])\n",
        "\n",
        "df.head()"
      ],
      "metadata": {
        "colab": {
          "base_uri": "https://localhost:8080/",
          "height": 206
        },
        "id": "2swoM2abMGMk",
        "outputId": "39ab3d8e-bd7a-4616-d76f-5d4c3e50e5b5"
      },
      "execution_count": 7,
      "outputs": [
        {
          "output_type": "execute_result",
          "data": {
            "text/plain": [
              "    User ID  Gender  Age  EstimatedSalary  Purchased\n",
              "0  15624510       1   19            19000          0\n",
              "1  15810944       1   35            20000          0\n",
              "2  15668575       0   26            43000          0\n",
              "3  15603246       0   27            57000          0\n",
              "4  15804002       1   19            76000          0"
            ],
            "text/html": [
              "\n",
              "  <div id=\"df-99553cee-ba6e-40d9-942d-c03eaf656e3d\">\n",
              "    <div class=\"colab-df-container\">\n",
              "      <div>\n",
              "<style scoped>\n",
              "    .dataframe tbody tr th:only-of-type {\n",
              "        vertical-align: middle;\n",
              "    }\n",
              "\n",
              "    .dataframe tbody tr th {\n",
              "        vertical-align: top;\n",
              "    }\n",
              "\n",
              "    .dataframe thead th {\n",
              "        text-align: right;\n",
              "    }\n",
              "</style>\n",
              "<table border=\"1\" class=\"dataframe\">\n",
              "  <thead>\n",
              "    <tr style=\"text-align: right;\">\n",
              "      <th></th>\n",
              "      <th>User ID</th>\n",
              "      <th>Gender</th>\n",
              "      <th>Age</th>\n",
              "      <th>EstimatedSalary</th>\n",
              "      <th>Purchased</th>\n",
              "    </tr>\n",
              "  </thead>\n",
              "  <tbody>\n",
              "    <tr>\n",
              "      <th>0</th>\n",
              "      <td>15624510</td>\n",
              "      <td>1</td>\n",
              "      <td>19</td>\n",
              "      <td>19000</td>\n",
              "      <td>0</td>\n",
              "    </tr>\n",
              "    <tr>\n",
              "      <th>1</th>\n",
              "      <td>15810944</td>\n",
              "      <td>1</td>\n",
              "      <td>35</td>\n",
              "      <td>20000</td>\n",
              "      <td>0</td>\n",
              "    </tr>\n",
              "    <tr>\n",
              "      <th>2</th>\n",
              "      <td>15668575</td>\n",
              "      <td>0</td>\n",
              "      <td>26</td>\n",
              "      <td>43000</td>\n",
              "      <td>0</td>\n",
              "    </tr>\n",
              "    <tr>\n",
              "      <th>3</th>\n",
              "      <td>15603246</td>\n",
              "      <td>0</td>\n",
              "      <td>27</td>\n",
              "      <td>57000</td>\n",
              "      <td>0</td>\n",
              "    </tr>\n",
              "    <tr>\n",
              "      <th>4</th>\n",
              "      <td>15804002</td>\n",
              "      <td>1</td>\n",
              "      <td>19</td>\n",
              "      <td>76000</td>\n",
              "      <td>0</td>\n",
              "    </tr>\n",
              "  </tbody>\n",
              "</table>\n",
              "</div>\n",
              "      <button class=\"colab-df-convert\" onclick=\"convertToInteractive('df-99553cee-ba6e-40d9-942d-c03eaf656e3d')\"\n",
              "              title=\"Convert this dataframe to an interactive table.\"\n",
              "              style=\"display:none;\">\n",
              "        \n",
              "  <svg xmlns=\"http://www.w3.org/2000/svg\" height=\"24px\"viewBox=\"0 0 24 24\"\n",
              "       width=\"24px\">\n",
              "    <path d=\"M0 0h24v24H0V0z\" fill=\"none\"/>\n",
              "    <path d=\"M18.56 5.44l.94 2.06.94-2.06 2.06-.94-2.06-.94-.94-2.06-.94 2.06-2.06.94zm-11 1L8.5 8.5l.94-2.06 2.06-.94-2.06-.94L8.5 2.5l-.94 2.06-2.06.94zm10 10l.94 2.06.94-2.06 2.06-.94-2.06-.94-.94-2.06-.94 2.06-2.06.94z\"/><path d=\"M17.41 7.96l-1.37-1.37c-.4-.4-.92-.59-1.43-.59-.52 0-1.04.2-1.43.59L10.3 9.45l-7.72 7.72c-.78.78-.78 2.05 0 2.83L4 21.41c.39.39.9.59 1.41.59.51 0 1.02-.2 1.41-.59l7.78-7.78 2.81-2.81c.8-.78.8-2.07 0-2.86zM5.41 20L4 18.59l7.72-7.72 1.47 1.35L5.41 20z\"/>\n",
              "  </svg>\n",
              "      </button>\n",
              "      \n",
              "  <style>\n",
              "    .colab-df-container {\n",
              "      display:flex;\n",
              "      flex-wrap:wrap;\n",
              "      gap: 12px;\n",
              "    }\n",
              "\n",
              "    .colab-df-convert {\n",
              "      background-color: #E8F0FE;\n",
              "      border: none;\n",
              "      border-radius: 50%;\n",
              "      cursor: pointer;\n",
              "      display: none;\n",
              "      fill: #1967D2;\n",
              "      height: 32px;\n",
              "      padding: 0 0 0 0;\n",
              "      width: 32px;\n",
              "    }\n",
              "\n",
              "    .colab-df-convert:hover {\n",
              "      background-color: #E2EBFA;\n",
              "      box-shadow: 0px 1px 2px rgba(60, 64, 67, 0.3), 0px 1px 3px 1px rgba(60, 64, 67, 0.15);\n",
              "      fill: #174EA6;\n",
              "    }\n",
              "\n",
              "    [theme=dark] .colab-df-convert {\n",
              "      background-color: #3B4455;\n",
              "      fill: #D2E3FC;\n",
              "    }\n",
              "\n",
              "    [theme=dark] .colab-df-convert:hover {\n",
              "      background-color: #434B5C;\n",
              "      box-shadow: 0px 1px 3px 1px rgba(0, 0, 0, 0.15);\n",
              "      filter: drop-shadow(0px 1px 2px rgba(0, 0, 0, 0.3));\n",
              "      fill: #FFFFFF;\n",
              "    }\n",
              "  </style>\n",
              "\n",
              "      <script>\n",
              "        const buttonEl =\n",
              "          document.querySelector('#df-99553cee-ba6e-40d9-942d-c03eaf656e3d button.colab-df-convert');\n",
              "        buttonEl.style.display =\n",
              "          google.colab.kernel.accessAllowed ? 'block' : 'none';\n",
              "\n",
              "        async function convertToInteractive(key) {\n",
              "          const element = document.querySelector('#df-99553cee-ba6e-40d9-942d-c03eaf656e3d');\n",
              "          const dataTable =\n",
              "            await google.colab.kernel.invokeFunction('convertToInteractive',\n",
              "                                                     [key], {});\n",
              "          if (!dataTable) return;\n",
              "\n",
              "          const docLinkHtml = 'Like what you see? Visit the ' +\n",
              "            '<a target=\"_blank\" href=https://colab.research.google.com/notebooks/data_table.ipynb>data table notebook</a>'\n",
              "            + ' to learn more about interactive tables.';\n",
              "          element.innerHTML = '';\n",
              "          dataTable['output_type'] = 'display_data';\n",
              "          await google.colab.output.renderOutput(dataTable, element);\n",
              "          const docLink = document.createElement('div');\n",
              "          docLink.innerHTML = docLinkHtml;\n",
              "          element.appendChild(docLink);\n",
              "        }\n",
              "      </script>\n",
              "    </div>\n",
              "  </div>\n",
              "  "
            ]
          },
          "metadata": {},
          "execution_count": 7
        }
      ]
    },
    {
      "cell_type": "markdown",
      "source": [
        "Hemos convertirdo nuestra variable género a una variable numérica. \n",
        "Se le ha asignado 1 a hombre y 0 a mujer tal y como podemos ver si compararmos las filas mostradas anteriormente y ahora"
      ],
      "metadata": {
        "id": "nl7plvr0Ng6T"
      }
    },
    {
      "cell_type": "markdown",
      "source": [
        "Ahora bien, la parte importante que hemos observado anteriormente nuestro dataset está desbalanceado y por tanto vamos a aplicar varias técnicas para que llegemos a una proporción más cercana a 50/50\n",
        "\n",
        "Vamos a emplear dos técnicas de forma conjunta para reducir la clase mayoritaria y aumentar la clase minoritaria, e forma que teneremos un dataset mejor balanceado. \n",
        "\n",
        "Si es necesario emplearemos otras técnicas de balanceo para poder comprarar resultados mejor\n",
        "Vamos a escoger un punto media entre ambas clases para Como tenemos una diferencia de 100 filas en total. \n",
        "Escogamos por ejemplo 200 elementos para cada clase. "
      ],
      "metadata": {
        "id": "STUoawc9OdTg"
      }
    },
    {
      "cell_type": "code",
      "source": [
        "from sklearn.utils import resample"
      ],
      "metadata": {
        "id": "v53o1zeLQi-w"
      },
      "execution_count": 8,
      "outputs": []
    },
    {
      "cell_type": "code",
      "source": [
        "# Separar las clases mayoritaria y minoritaria\n",
        "df_majority = df[df.Purchased==0]\n",
        "df_minority = df[df.Purchased==1]\n",
        "\n",
        "print(f\"tenemos {len(df_majority)} en el mayor y {len(df_minority)} en el menor\")\n",
        "\n",
        "\n",
        "# Aumentar la muestra de la clase minoritaria\n",
        "df_minority_upsampled = resample(df_minority, \n",
        "                                 replace=True,     # muestra con remplazamiento\n",
        "                                 n_samples=200,    # número de muestras de la clase mayoritaria\n",
        "                                 random_state=42) # semilla para que los resultados sean reproducibles\n",
        "\n",
        "# Disminuir la clase mayoritaria\n",
        "df_majority_downsampled = resample(df_majority, \n",
        "                                 replace=False,    # muestra sin remplazamiento\n",
        "                                 n_samples=200,     # número de muestras de la clase minoritaria\n",
        "                                 random_state=42) # semilla para que los datos sean reproducibles\n",
        "\n",
        "# combinamos los dos dataframes generados \n",
        "df_mixto = pd.concat([df_minority_upsampled, df_majority_downsampled]) \n",
        "\n",
        "# veamos la proporción que hemos obtenido\n",
        "print(\"La nueva proporción es:\")\n",
        "df_mixto['Purchased'].value_counts() / len(df_mixto) * 100"
      ],
      "metadata": {
        "colab": {
          "base_uri": "https://localhost:8080/"
        },
        "id": "JMrbZ8KVQDxU",
        "outputId": "1a10e759-8ec9-4b8f-b17b-cadd98517442"
      },
      "execution_count": 9,
      "outputs": [
        {
          "output_type": "stream",
          "name": "stdout",
          "text": [
            "tenemos 257 en el mayor y 143 en el menor\n",
            "La nueva proporción es:\n"
          ]
        },
        {
          "output_type": "execute_result",
          "data": {
            "text/plain": [
              "1    50.0\n",
              "0    50.0\n",
              "Name: Purchased, dtype: float64"
            ]
          },
          "metadata": {},
          "execution_count": 9
        }
      ]
    },
    {
      "cell_type": "markdown",
      "source": [
        "Otra de las opciones serían generar datos sinéticos empleado Smote o ADASYN para la clase minoritaria, mientras que disminumos la clase mayoritaria, de forma que evitemos tener que generar muchos datos sintéticos. "
      ],
      "metadata": {
        "id": "ay24RpAqSTI0"
      }
    },
    {
      "cell_type": "markdown",
      "source": [],
      "metadata": {
        "id": "5GdJZbRBZUmP"
      }
    },
    {
      "cell_type": "markdown",
      "source": [],
      "metadata": {
        "id": "Bz_Zv_5WPm7C"
      }
    },
    {
      "cell_type": "markdown",
      "source": [
        "Resaltar que podemos hacer alguna labor adicicional de preprocesamiento de los datos, por ejemplo es muy comun standarizar los datos ya que hay algunos modelos que funcionan mejor cuando los datos son número de una escala más pequeña. \n",
        "Si vemos que es necesario realizaremos este labor de estandarizar los datos más adelante. "
      ],
      "metadata": {
        "id": "AkeLIxhLOyRq"
      }
    },
    {
      "cell_type": "markdown",
      "source": [
        "# Estudio modelos\n",
        "\n",
        "Una vez ya tenemos nuestro dataset generado y listo para ser estudiamo, vamos a continuación a realizar diferentes modelos y compararlos entre ellos para poder obtener conclusiones y el mejor modelo funcional que podamos generar. \n",
        "\n",
        "Vamos a usar un gridSearch para buscar los mejores parámetros para el parámetro elegido"
      ],
      "metadata": {
        "id": "-6rtNzXaUSQK"
      }
    },
    {
      "cell_type": "markdown",
      "source": [
        "Primeramente vamos a generar nuestros conjuntos de entrenamiento y validación como es costumbre. para poder comparar los diferentes algoritmos. Usaremos el split test para dividir los datos en 2 conjuntos uno de test y otro de "
      ],
      "metadata": {
        "id": "ScK5EHQcPJJn"
      }
    },
    {
      "cell_type": "code",
      "source": [
        "%%time\n",
        "from sklearn.ensemble import RandomForestRegressor\n",
        "from sklearn.model_selection import GridSearchCV\n",
        "\n",
        "\n",
        "param_grid = {\n",
        "    # 12 (3×4) combinaciones de hiperparámetros\n",
        "    'n_estimators': [30, 100, 300],\n",
        "    'max_features': [3, 6, 8, 'auto']\n",
        "    }   \n",
        "\n",
        "forest_reg = RandomForestRegressor(random_state=42) \n",
        "# entrena con 3 folds, es decir un total de 12*3=36 rondas de entrenamiento \n",
        "grid_search_RF = GridSearchCV(forest_reg, param_grid, cv=3,\n",
        "                           scoring='neg_mean_squared_error',\n",
        "                           refit= True, verbose=2, n_jobs=-1)\n",
        "grid_search_RF.fit(X_train, y_train)\n",
        "\n",
        "\n",
        "cvres = grid_search_RF.cv_results_\n",
        "for mean_score, params in zip(cvres[\"mean_test_score\"], cvres[\"params\"]):\n",
        "    print(f\"El RMSE para el modelo con los parámetros {params} ha sido {np.sqrt(-mean_score)}\")\n",
        "\n",
        "    "
      ],
      "metadata": {
        "id": "_yprR5KbURg8"
      },
      "execution_count": null,
      "outputs": []
    }
  ]
}